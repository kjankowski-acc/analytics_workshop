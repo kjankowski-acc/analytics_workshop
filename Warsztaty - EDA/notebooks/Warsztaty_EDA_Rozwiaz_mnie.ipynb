{
 "cells": [
  {
   "cell_type": "markdown",
   "metadata": {},
   "source": [
    "# Raportowanie - analiza trendów i zależności w danych sprzedażowych"
   ]
  },
  {
   "cell_type": "markdown",
   "metadata": {},
   "source": [
    "Celem tego notebooka jest pokazanie podstawowych narzędzi stosowanych w EDA (eng. Exploratory Data Analysis)."
   ]
  },
  {
   "cell_type": "markdown",
   "metadata": {},
   "source": [
    "## Importy bibliotek"
   ]
  },
  {
   "cell_type": "code",
   "execution_count": 1,
   "metadata": {},
   "outputs": [],
   "source": [
    "import pandas as pd\n",
    "import numpy as np\n",
    "import matplotlib.pyplot as plt\n",
    "import seaborn as sns\n",
    "\n",
    "import datetime\n",
    "import os"
   ]
  },
  {
   "cell_type": "markdown",
   "metadata": {},
   "source": [
    "## Wczytanie danych"
   ]
  },
  {
   "cell_type": "code",
   "execution_count": 2,
   "metadata": {},
   "outputs": [],
   "source": [
    "fileName = \"Warsztaty.csv\"\n",
    "\n",
    "# ścieżki dostępu do plików\n",
    "dataFolderPath = os.path.join(os.path.pardir, \"data\")\n",
    "\n",
    "dataRawPath = os.path.join(dataFolderPath, fileName)\n",
    "\n",
    "dataRaw = pd.read_csv(dataRawPath, index_col=\"receipt_id\", parse_dates=True)"
   ]
  },
  {
   "cell_type": "markdown",
   "metadata": {},
   "source": [
    "---------\n",
    "### Cheat Sheet:\n",
    "1. Ładowanie danych do  tabeli DataFrame z pliku *.csv*:\n",
    "```python\n",
    "df = pd.read_csv('ścieżka_do_pliku.csv')\n",
    "```\n",
    "2. Wyświetl `n` pierwszych wierszy tabeli DataFrame (`n` domyślnie równe 5):\n",
    "    - jeśli to ostatnia komenda w komórce:\n",
    "```python\n",
    "df.head(n)\n",
    "```\n",
    "    - jeśli tak nie jest:\n",
    "```python\n",
    "display(df.head(n))\n",
    "```\n",
    "3. Wyświetlanie kolumn DataFrame'u : \n",
    "```python\n",
    "df.columns\n",
    "```\n",
    "4. Wyświetlanie typów danych dla każdej kolumny : \n",
    "```python\n",
    "df.dtypes\n",
    "```\n",
    "5. Wyświetlanie typów danych i nulli :\n",
    "```python\n",
    "df.info()\n",
    "```\n",
    "6. Wyświetlanie wartości unikalnych w kolumnie :\n",
    "```python\n",
    "df.nazwa_kolumny.unique()\n",
    "```\n",
    "7. Grupowanie po określonej kolumnie :\n",
    "```python\n",
    "df.groupby(\"nazwa_kolumny\")\n",
    "```\n",
    "8. Wyliczanie procentowej zmiany wartości kolumny względem zmiany indeksu :\n",
    "```python\n",
    "df.nazwa_kolumnt.pct_change()\n",
    "```\n",
    "9. Obrót tabeli DataFrame (tzw. *pivot*) sumujący wartości z ```kolumna_do_zliczenia``` we wszystkich kombinacjach ```kolumna_x``` z ```kolumna_y```.\n",
    "```python\n",
    "df = pd.pivot_table(df, values='kolumna_do_zliczania', index='kolumna_x', columns='kolumna_y', aggfunc=np.sum)\n",
    "```\n",
    "10. Sortowanie malejące wierszy w tabeli DataFrame według wartości w kolumnie/kolumnach:\n",
    " - dla jednej kolumny\n",
    "```python\n",
    "df = df.sort_values('kolumna', ascending=False)\n",
    "```\n",
    " - dla wielu kolumn\n",
    "```python\n",
    "df.sort_values(['kolumna_1', 'kolumna_2'], ascending=False)\n",
    "```\n"
   ]
  },
  {
   "cell_type": "markdown",
   "metadata": {},
   "source": [
    "## Szybki przegląd danych - co zawiera dataframe?"
   ]
  },
  {
   "cell_type": "code",
   "execution_count": 3,
   "metadata": {
    "scrolled": true
   },
   "outputs": [
    {
     "data": {
      "text/html": [
       "<div>\n",
       "<style scoped>\n",
       "    .dataframe tbody tr th:only-of-type {\n",
       "        vertical-align: middle;\n",
       "    }\n",
       "\n",
       "    .dataframe tbody tr th {\n",
       "        vertical-align: top;\n",
       "    }\n",
       "\n",
       "    .dataframe thead th {\n",
       "        text-align: right;\n",
       "    }\n",
       "</style>\n",
       "<table border=\"1\" class=\"dataframe\">\n",
       "  <thead>\n",
       "    <tr style=\"text-align: right;\">\n",
       "      <th></th>\n",
       "      <th>date</th>\n",
       "      <th>basket_segment_id</th>\n",
       "      <th>client_segment_id</th>\n",
       "      <th>case_id</th>\n",
       "      <th>client_id</th>\n",
       "      <th>location_id</th>\n",
       "      <th>payment_type</th>\n",
       "      <th>product_id</th>\n",
       "      <th>quantity</th>\n",
       "      <th>unit_price</th>\n",
       "      <th>cost</th>\n",
       "      <th>cost_incl_vat</th>\n",
       "      <th>product_category</th>\n",
       "      <th>product_subcategory</th>\n",
       "      <th>product_name</th>\n",
       "      <th>weekday</th>\n",
       "    </tr>\n",
       "    <tr>\n",
       "      <th>receipt_id</th>\n",
       "      <th></th>\n",
       "      <th></th>\n",
       "      <th></th>\n",
       "      <th></th>\n",
       "      <th></th>\n",
       "      <th></th>\n",
       "      <th></th>\n",
       "      <th></th>\n",
       "      <th></th>\n",
       "      <th></th>\n",
       "      <th></th>\n",
       "      <th></th>\n",
       "      <th></th>\n",
       "      <th></th>\n",
       "      <th></th>\n",
       "      <th></th>\n",
       "    </tr>\n",
       "  </thead>\n",
       "  <tbody>\n",
       "    <tr>\n",
       "      <td>1</td>\n",
       "      <td>2016-01-01 07:10:10</td>\n",
       "      <td>NaN</td>\n",
       "      <td>4</td>\n",
       "      <td>1</td>\n",
       "      <td>1786</td>\n",
       "      <td>1</td>\n",
       "      <td>cash</td>\n",
       "      <td>54</td>\n",
       "      <td>5</td>\n",
       "      <td>0.99</td>\n",
       "      <td>4.95</td>\n",
       "      <td>4.87</td>\n",
       "      <td>Pieczywo</td>\n",
       "      <td>Bułka</td>\n",
       "      <td>Ciabatka</td>\n",
       "      <td>4</td>\n",
       "    </tr>\n",
       "    <tr>\n",
       "      <td>3</td>\n",
       "      <td>2016-01-01 07:17:54</td>\n",
       "      <td>NaN</td>\n",
       "      <td>2</td>\n",
       "      <td>1</td>\n",
       "      <td>689</td>\n",
       "      <td>1</td>\n",
       "      <td>credit_card</td>\n",
       "      <td>54</td>\n",
       "      <td>5</td>\n",
       "      <td>0.99</td>\n",
       "      <td>4.95</td>\n",
       "      <td>4.87</td>\n",
       "      <td>Pieczywo</td>\n",
       "      <td>Bułka</td>\n",
       "      <td>Ciabatka</td>\n",
       "      <td>4</td>\n",
       "    </tr>\n",
       "    <tr>\n",
       "      <td>7</td>\n",
       "      <td>2016-01-01 07:31:08</td>\n",
       "      <td>NaN</td>\n",
       "      <td>3</td>\n",
       "      <td>1</td>\n",
       "      <td>905</td>\n",
       "      <td>3</td>\n",
       "      <td>debit_card</td>\n",
       "      <td>54</td>\n",
       "      <td>5</td>\n",
       "      <td>0.99</td>\n",
       "      <td>4.95</td>\n",
       "      <td>4.87</td>\n",
       "      <td>Pieczywo</td>\n",
       "      <td>Bułka</td>\n",
       "      <td>Ciabatka</td>\n",
       "      <td>4</td>\n",
       "    </tr>\n",
       "    <tr>\n",
       "      <td>10</td>\n",
       "      <td>2016-01-01 08:10:43</td>\n",
       "      <td>NaN</td>\n",
       "      <td>2</td>\n",
       "      <td>1</td>\n",
       "      <td>751</td>\n",
       "      <td>2</td>\n",
       "      <td>cash</td>\n",
       "      <td>54</td>\n",
       "      <td>6</td>\n",
       "      <td>0.99</td>\n",
       "      <td>5.94</td>\n",
       "      <td>6.09</td>\n",
       "      <td>Pieczywo</td>\n",
       "      <td>Bułka</td>\n",
       "      <td>Ciabatka</td>\n",
       "      <td>4</td>\n",
       "    </tr>\n",
       "    <tr>\n",
       "      <td>11</td>\n",
       "      <td>2016-01-01 08:11:19</td>\n",
       "      <td>NaN</td>\n",
       "      <td>6</td>\n",
       "      <td>1</td>\n",
       "      <td>1910</td>\n",
       "      <td>3</td>\n",
       "      <td>debit_card</td>\n",
       "      <td>54</td>\n",
       "      <td>8</td>\n",
       "      <td>0.99</td>\n",
       "      <td>7.92</td>\n",
       "      <td>8.52</td>\n",
       "      <td>Pieczywo</td>\n",
       "      <td>Bułka</td>\n",
       "      <td>Ciabatka</td>\n",
       "      <td>4</td>\n",
       "    </tr>\n",
       "    <tr>\n",
       "      <td>16</td>\n",
       "      <td>2016-01-01 08:23:34</td>\n",
       "      <td>NaN</td>\n",
       "      <td>3</td>\n",
       "      <td>1</td>\n",
       "      <td>974</td>\n",
       "      <td>2</td>\n",
       "      <td>debit_card</td>\n",
       "      <td>54</td>\n",
       "      <td>5</td>\n",
       "      <td>0.99</td>\n",
       "      <td>4.95</td>\n",
       "      <td>4.87</td>\n",
       "      <td>Pieczywo</td>\n",
       "      <td>Bułka</td>\n",
       "      <td>Ciabatka</td>\n",
       "      <td>4</td>\n",
       "    </tr>\n",
       "    <tr>\n",
       "      <td>18</td>\n",
       "      <td>2016-01-01 09:03:27</td>\n",
       "      <td>NaN</td>\n",
       "      <td>3</td>\n",
       "      <td>1</td>\n",
       "      <td>1002</td>\n",
       "      <td>2</td>\n",
       "      <td>debit_card</td>\n",
       "      <td>54</td>\n",
       "      <td>9</td>\n",
       "      <td>0.99</td>\n",
       "      <td>8.91</td>\n",
       "      <td>9.74</td>\n",
       "      <td>Pieczywo</td>\n",
       "      <td>Bułka</td>\n",
       "      <td>Ciabatka</td>\n",
       "      <td>4</td>\n",
       "    </tr>\n",
       "    <tr>\n",
       "      <td>20</td>\n",
       "      <td>2016-01-01 09:42:18</td>\n",
       "      <td>NaN</td>\n",
       "      <td>2</td>\n",
       "      <td>1</td>\n",
       "      <td>805</td>\n",
       "      <td>1</td>\n",
       "      <td>debit_card</td>\n",
       "      <td>54</td>\n",
       "      <td>9</td>\n",
       "      <td>0.99</td>\n",
       "      <td>8.91</td>\n",
       "      <td>9.74</td>\n",
       "      <td>Pieczywo</td>\n",
       "      <td>Bułka</td>\n",
       "      <td>Ciabatka</td>\n",
       "      <td>4</td>\n",
       "    </tr>\n",
       "    <tr>\n",
       "      <td>21</td>\n",
       "      <td>2016-01-01 10:16:53</td>\n",
       "      <td>NaN</td>\n",
       "      <td>4</td>\n",
       "      <td>1</td>\n",
       "      <td>1614</td>\n",
       "      <td>3</td>\n",
       "      <td>cash</td>\n",
       "      <td>54</td>\n",
       "      <td>8</td>\n",
       "      <td>0.99</td>\n",
       "      <td>7.92</td>\n",
       "      <td>9.74</td>\n",
       "      <td>Pieczywo</td>\n",
       "      <td>Bułka</td>\n",
       "      <td>Ciabatka</td>\n",
       "      <td>4</td>\n",
       "    </tr>\n",
       "    <tr>\n",
       "      <td>22</td>\n",
       "      <td>2016-01-01 10:36:40</td>\n",
       "      <td>NaN</td>\n",
       "      <td>4</td>\n",
       "      <td>1</td>\n",
       "      <td>1663</td>\n",
       "      <td>2</td>\n",
       "      <td>debit_card</td>\n",
       "      <td>54</td>\n",
       "      <td>9</td>\n",
       "      <td>0.99</td>\n",
       "      <td>8.91</td>\n",
       "      <td>10.96</td>\n",
       "      <td>Pieczywo</td>\n",
       "      <td>Bułka</td>\n",
       "      <td>Ciabatka</td>\n",
       "      <td>4</td>\n",
       "    </tr>\n",
       "  </tbody>\n",
       "</table>\n",
       "</div>"
      ],
      "text/plain": [
       "                           date  basket_segment_id  client_segment_id  \\\n",
       "receipt_id                                                              \n",
       "1           2016-01-01 07:10:10                NaN                  4   \n",
       "3           2016-01-01 07:17:54                NaN                  2   \n",
       "7           2016-01-01 07:31:08                NaN                  3   \n",
       "10          2016-01-01 08:10:43                NaN                  2   \n",
       "11          2016-01-01 08:11:19                NaN                  6   \n",
       "16          2016-01-01 08:23:34                NaN                  3   \n",
       "18          2016-01-01 09:03:27                NaN                  3   \n",
       "20          2016-01-01 09:42:18                NaN                  2   \n",
       "21          2016-01-01 10:16:53                NaN                  4   \n",
       "22          2016-01-01 10:36:40                NaN                  4   \n",
       "\n",
       "            case_id  client_id  location_id payment_type  product_id  \\\n",
       "receipt_id                                                             \n",
       "1                 1       1786            1         cash          54   \n",
       "3                 1        689            1  credit_card          54   \n",
       "7                 1        905            3   debit_card          54   \n",
       "10                1        751            2         cash          54   \n",
       "11                1       1910            3   debit_card          54   \n",
       "16                1        974            2   debit_card          54   \n",
       "18                1       1002            2   debit_card          54   \n",
       "20                1        805            1   debit_card          54   \n",
       "21                1       1614            3         cash          54   \n",
       "22                1       1663            2   debit_card          54   \n",
       "\n",
       "            quantity  unit_price  cost  cost_incl_vat product_category  \\\n",
       "receipt_id                                                               \n",
       "1                  5        0.99  4.95           4.87         Pieczywo   \n",
       "3                  5        0.99  4.95           4.87         Pieczywo   \n",
       "7                  5        0.99  4.95           4.87         Pieczywo   \n",
       "10                 6        0.99  5.94           6.09         Pieczywo   \n",
       "11                 8        0.99  7.92           8.52         Pieczywo   \n",
       "16                 5        0.99  4.95           4.87         Pieczywo   \n",
       "18                 9        0.99  8.91           9.74         Pieczywo   \n",
       "20                 9        0.99  8.91           9.74         Pieczywo   \n",
       "21                 8        0.99  7.92           9.74         Pieczywo   \n",
       "22                 9        0.99  8.91          10.96         Pieczywo   \n",
       "\n",
       "           product_subcategory product_name  weekday  \n",
       "receipt_id                                            \n",
       "1                        Bułka     Ciabatka        4  \n",
       "3                        Bułka     Ciabatka        4  \n",
       "7                        Bułka     Ciabatka        4  \n",
       "10                       Bułka     Ciabatka        4  \n",
       "11                       Bułka     Ciabatka        4  \n",
       "16                       Bułka     Ciabatka        4  \n",
       "18                       Bułka     Ciabatka        4  \n",
       "20                       Bułka     Ciabatka        4  \n",
       "21                       Bułka     Ciabatka        4  \n",
       "22                       Bułka     Ciabatka        4  "
      ]
     },
     "execution_count": 3,
     "metadata": {},
     "output_type": "execute_result"
    }
   ],
   "source": [
    "dataRaw.head(10)"
   ]
  },
  {
   "cell_type": "markdown",
   "metadata": {},
   "source": [
    "### Szybki przegląd danych - jakie mamy kolumny? "
   ]
  },
  {
   "cell_type": "code",
   "execution_count": 4,
   "metadata": {},
   "outputs": [
    {
     "data": {
      "text/plain": [
       "Index(['date', 'basket_segment_id', 'client_segment_id', 'case_id',\n",
       "       'client_id', 'location_id', 'payment_type', 'product_id', 'quantity',\n",
       "       'unit_price', 'cost', 'cost_incl_vat', 'product_category',\n",
       "       'product_subcategory', 'product_name', 'weekday'],\n",
       "      dtype='object')"
      ]
     },
     "execution_count": 4,
     "metadata": {},
     "output_type": "execute_result"
    }
   ],
   "source": [
    "dataRaw.columns"
   ]
  },
  {
   "cell_type": "markdown",
   "metadata": {},
   "source": [
    "### Szybki przegląd danych - jakie typy danych mają poszczególne kolumny?"
   ]
  },
  {
   "cell_type": "code",
   "execution_count": 5,
   "metadata": {},
   "outputs": [
    {
     "data": {
      "text/plain": [
       "date                    object\n",
       "basket_segment_id      float64\n",
       "client_segment_id        int64\n",
       "case_id                  int64\n",
       "client_id                int64\n",
       "location_id              int64\n",
       "payment_type            object\n",
       "product_id               int64\n",
       "quantity                 int64\n",
       "unit_price             float64\n",
       "cost                   float64\n",
       "cost_incl_vat          float64\n",
       "product_category        object\n",
       "product_subcategory     object\n",
       "product_name            object\n",
       "weekday                  int64\n",
       "dtype: object"
      ]
     },
     "execution_count": 5,
     "metadata": {},
     "output_type": "execute_result"
    }
   ],
   "source": [
    "dataRaw.dtypes"
   ]
  },
  {
   "cell_type": "markdown",
   "metadata": {},
   "source": [
    "### Szybki przegląd danych - ile mamy nulli w danych, jakie mamy typy ?"
   ]
  },
  {
   "cell_type": "code",
   "execution_count": 6,
   "metadata": {},
   "outputs": [
    {
     "name": "stdout",
     "output_type": "stream",
     "text": [
      "<class 'pandas.core.frame.DataFrame'>\n",
      "Int64Index: 499507 entries, 1 to 179594\n",
      "Data columns (total 16 columns):\n",
      "date                   499507 non-null object\n",
      "basket_segment_id      0 non-null float64\n",
      "client_segment_id      499507 non-null int64\n",
      "case_id                499507 non-null int64\n",
      "client_id              499507 non-null int64\n",
      "location_id            499507 non-null int64\n",
      "payment_type           499507 non-null object\n",
      "product_id             499507 non-null int64\n",
      "quantity               499507 non-null int64\n",
      "unit_price             499507 non-null float64\n",
      "cost                   499507 non-null float64\n",
      "cost_incl_vat          499507 non-null float64\n",
      "product_category       499507 non-null object\n",
      "product_subcategory    499507 non-null object\n",
      "product_name           499507 non-null object\n",
      "weekday                499507 non-null int64\n",
      "dtypes: float64(4), int64(7), object(5)\n",
      "memory usage: 64.8+ MB\n"
     ]
    }
   ],
   "source": [
    "dataRaw.info()"
   ]
  },
  {
   "cell_type": "markdown",
   "metadata": {},
   "source": [
    "### Szybki przegląd danych - podstawowe filtrowanie + wartości unikalne"
   ]
  },
  {
   "cell_type": "code",
   "execution_count": 7,
   "metadata": {},
   "outputs": [
    {
     "data": {
      "text/plain": [
       "array(['Wino', 'Piwo', 'Woda', 'Coca-cola', 'Wódka'], dtype=object)"
      ]
     },
     "execution_count": 7,
     "metadata": {},
     "output_type": "execute_result"
    }
   ],
   "source": [
    "dataRaw[dataRaw.product_category == \"Napoje\"].product_subcategory.unique()"
   ]
  },
  {
   "cell_type": "markdown",
   "metadata": {},
   "source": [
    "## Podstawowe przekształcenia danych"
   ]
  },
  {
   "cell_type": "markdown",
   "metadata": {},
   "source": [
    "### Podstawowe przekształcenia danych - wyrzucenie pustej kolumny"
   ]
  },
  {
   "cell_type": "code",
   "execution_count": 8,
   "metadata": {
    "scrolled": true
   },
   "outputs": [],
   "source": [
    "dataRaw.drop(\"basket_segment_id\", axis=1, inplace=True)\n",
    "\n",
    "#dataRaw = dataRaw.drop(\"basket_segment_id\", axis=1)"
   ]
  },
  {
   "cell_type": "code",
   "execution_count": 9,
   "metadata": {
    "scrolled": true
   },
   "outputs": [
    {
     "data": {
      "text/html": [
       "<div>\n",
       "<style scoped>\n",
       "    .dataframe tbody tr th:only-of-type {\n",
       "        vertical-align: middle;\n",
       "    }\n",
       "\n",
       "    .dataframe tbody tr th {\n",
       "        vertical-align: top;\n",
       "    }\n",
       "\n",
       "    .dataframe thead th {\n",
       "        text-align: right;\n",
       "    }\n",
       "</style>\n",
       "<table border=\"1\" class=\"dataframe\">\n",
       "  <thead>\n",
       "    <tr style=\"text-align: right;\">\n",
       "      <th></th>\n",
       "      <th>date</th>\n",
       "      <th>client_segment_id</th>\n",
       "      <th>case_id</th>\n",
       "      <th>client_id</th>\n",
       "      <th>location_id</th>\n",
       "      <th>payment_type</th>\n",
       "      <th>product_id</th>\n",
       "      <th>quantity</th>\n",
       "      <th>unit_price</th>\n",
       "      <th>cost</th>\n",
       "      <th>cost_incl_vat</th>\n",
       "      <th>product_category</th>\n",
       "      <th>product_subcategory</th>\n",
       "      <th>product_name</th>\n",
       "      <th>weekday</th>\n",
       "    </tr>\n",
       "    <tr>\n",
       "      <th>receipt_id</th>\n",
       "      <th></th>\n",
       "      <th></th>\n",
       "      <th></th>\n",
       "      <th></th>\n",
       "      <th></th>\n",
       "      <th></th>\n",
       "      <th></th>\n",
       "      <th></th>\n",
       "      <th></th>\n",
       "      <th></th>\n",
       "      <th></th>\n",
       "      <th></th>\n",
       "      <th></th>\n",
       "      <th></th>\n",
       "      <th></th>\n",
       "    </tr>\n",
       "  </thead>\n",
       "  <tbody>\n",
       "    <tr>\n",
       "      <td>1</td>\n",
       "      <td>2016-01-01 07:10:10</td>\n",
       "      <td>4</td>\n",
       "      <td>1</td>\n",
       "      <td>1786</td>\n",
       "      <td>1</td>\n",
       "      <td>cash</td>\n",
       "      <td>54</td>\n",
       "      <td>5</td>\n",
       "      <td>0.99</td>\n",
       "      <td>4.95</td>\n",
       "      <td>4.87</td>\n",
       "      <td>Pieczywo</td>\n",
       "      <td>Bułka</td>\n",
       "      <td>Ciabatka</td>\n",
       "      <td>4</td>\n",
       "    </tr>\n",
       "    <tr>\n",
       "      <td>3</td>\n",
       "      <td>2016-01-01 07:17:54</td>\n",
       "      <td>2</td>\n",
       "      <td>1</td>\n",
       "      <td>689</td>\n",
       "      <td>1</td>\n",
       "      <td>credit_card</td>\n",
       "      <td>54</td>\n",
       "      <td>5</td>\n",
       "      <td>0.99</td>\n",
       "      <td>4.95</td>\n",
       "      <td>4.87</td>\n",
       "      <td>Pieczywo</td>\n",
       "      <td>Bułka</td>\n",
       "      <td>Ciabatka</td>\n",
       "      <td>4</td>\n",
       "    </tr>\n",
       "    <tr>\n",
       "      <td>7</td>\n",
       "      <td>2016-01-01 07:31:08</td>\n",
       "      <td>3</td>\n",
       "      <td>1</td>\n",
       "      <td>905</td>\n",
       "      <td>3</td>\n",
       "      <td>debit_card</td>\n",
       "      <td>54</td>\n",
       "      <td>5</td>\n",
       "      <td>0.99</td>\n",
       "      <td>4.95</td>\n",
       "      <td>4.87</td>\n",
       "      <td>Pieczywo</td>\n",
       "      <td>Bułka</td>\n",
       "      <td>Ciabatka</td>\n",
       "      <td>4</td>\n",
       "    </tr>\n",
       "    <tr>\n",
       "      <td>10</td>\n",
       "      <td>2016-01-01 08:10:43</td>\n",
       "      <td>2</td>\n",
       "      <td>1</td>\n",
       "      <td>751</td>\n",
       "      <td>2</td>\n",
       "      <td>cash</td>\n",
       "      <td>54</td>\n",
       "      <td>6</td>\n",
       "      <td>0.99</td>\n",
       "      <td>5.94</td>\n",
       "      <td>6.09</td>\n",
       "      <td>Pieczywo</td>\n",
       "      <td>Bułka</td>\n",
       "      <td>Ciabatka</td>\n",
       "      <td>4</td>\n",
       "    </tr>\n",
       "    <tr>\n",
       "      <td>11</td>\n",
       "      <td>2016-01-01 08:11:19</td>\n",
       "      <td>6</td>\n",
       "      <td>1</td>\n",
       "      <td>1910</td>\n",
       "      <td>3</td>\n",
       "      <td>debit_card</td>\n",
       "      <td>54</td>\n",
       "      <td>8</td>\n",
       "      <td>0.99</td>\n",
       "      <td>7.92</td>\n",
       "      <td>8.52</td>\n",
       "      <td>Pieczywo</td>\n",
       "      <td>Bułka</td>\n",
       "      <td>Ciabatka</td>\n",
       "      <td>4</td>\n",
       "    </tr>\n",
       "    <tr>\n",
       "      <td>16</td>\n",
       "      <td>2016-01-01 08:23:34</td>\n",
       "      <td>3</td>\n",
       "      <td>1</td>\n",
       "      <td>974</td>\n",
       "      <td>2</td>\n",
       "      <td>debit_card</td>\n",
       "      <td>54</td>\n",
       "      <td>5</td>\n",
       "      <td>0.99</td>\n",
       "      <td>4.95</td>\n",
       "      <td>4.87</td>\n",
       "      <td>Pieczywo</td>\n",
       "      <td>Bułka</td>\n",
       "      <td>Ciabatka</td>\n",
       "      <td>4</td>\n",
       "    </tr>\n",
       "    <tr>\n",
       "      <td>18</td>\n",
       "      <td>2016-01-01 09:03:27</td>\n",
       "      <td>3</td>\n",
       "      <td>1</td>\n",
       "      <td>1002</td>\n",
       "      <td>2</td>\n",
       "      <td>debit_card</td>\n",
       "      <td>54</td>\n",
       "      <td>9</td>\n",
       "      <td>0.99</td>\n",
       "      <td>8.91</td>\n",
       "      <td>9.74</td>\n",
       "      <td>Pieczywo</td>\n",
       "      <td>Bułka</td>\n",
       "      <td>Ciabatka</td>\n",
       "      <td>4</td>\n",
       "    </tr>\n",
       "    <tr>\n",
       "      <td>20</td>\n",
       "      <td>2016-01-01 09:42:18</td>\n",
       "      <td>2</td>\n",
       "      <td>1</td>\n",
       "      <td>805</td>\n",
       "      <td>1</td>\n",
       "      <td>debit_card</td>\n",
       "      <td>54</td>\n",
       "      <td>9</td>\n",
       "      <td>0.99</td>\n",
       "      <td>8.91</td>\n",
       "      <td>9.74</td>\n",
       "      <td>Pieczywo</td>\n",
       "      <td>Bułka</td>\n",
       "      <td>Ciabatka</td>\n",
       "      <td>4</td>\n",
       "    </tr>\n",
       "    <tr>\n",
       "      <td>21</td>\n",
       "      <td>2016-01-01 10:16:53</td>\n",
       "      <td>4</td>\n",
       "      <td>1</td>\n",
       "      <td>1614</td>\n",
       "      <td>3</td>\n",
       "      <td>cash</td>\n",
       "      <td>54</td>\n",
       "      <td>8</td>\n",
       "      <td>0.99</td>\n",
       "      <td>7.92</td>\n",
       "      <td>9.74</td>\n",
       "      <td>Pieczywo</td>\n",
       "      <td>Bułka</td>\n",
       "      <td>Ciabatka</td>\n",
       "      <td>4</td>\n",
       "    </tr>\n",
       "    <tr>\n",
       "      <td>22</td>\n",
       "      <td>2016-01-01 10:36:40</td>\n",
       "      <td>4</td>\n",
       "      <td>1</td>\n",
       "      <td>1663</td>\n",
       "      <td>2</td>\n",
       "      <td>debit_card</td>\n",
       "      <td>54</td>\n",
       "      <td>9</td>\n",
       "      <td>0.99</td>\n",
       "      <td>8.91</td>\n",
       "      <td>10.96</td>\n",
       "      <td>Pieczywo</td>\n",
       "      <td>Bułka</td>\n",
       "      <td>Ciabatka</td>\n",
       "      <td>4</td>\n",
       "    </tr>\n",
       "  </tbody>\n",
       "</table>\n",
       "</div>"
      ],
      "text/plain": [
       "                           date  client_segment_id  case_id  client_id  \\\n",
       "receipt_id                                                               \n",
       "1           2016-01-01 07:10:10                  4        1       1786   \n",
       "3           2016-01-01 07:17:54                  2        1        689   \n",
       "7           2016-01-01 07:31:08                  3        1        905   \n",
       "10          2016-01-01 08:10:43                  2        1        751   \n",
       "11          2016-01-01 08:11:19                  6        1       1910   \n",
       "16          2016-01-01 08:23:34                  3        1        974   \n",
       "18          2016-01-01 09:03:27                  3        1       1002   \n",
       "20          2016-01-01 09:42:18                  2        1        805   \n",
       "21          2016-01-01 10:16:53                  4        1       1614   \n",
       "22          2016-01-01 10:36:40                  4        1       1663   \n",
       "\n",
       "            location_id payment_type  product_id  quantity  unit_price  cost  \\\n",
       "receipt_id                                                                     \n",
       "1                     1         cash          54         5        0.99  4.95   \n",
       "3                     1  credit_card          54         5        0.99  4.95   \n",
       "7                     3   debit_card          54         5        0.99  4.95   \n",
       "10                    2         cash          54         6        0.99  5.94   \n",
       "11                    3   debit_card          54         8        0.99  7.92   \n",
       "16                    2   debit_card          54         5        0.99  4.95   \n",
       "18                    2   debit_card          54         9        0.99  8.91   \n",
       "20                    1   debit_card          54         9        0.99  8.91   \n",
       "21                    3         cash          54         8        0.99  7.92   \n",
       "22                    2   debit_card          54         9        0.99  8.91   \n",
       "\n",
       "            cost_incl_vat product_category product_subcategory product_name  \\\n",
       "receipt_id                                                                    \n",
       "1                    4.87         Pieczywo               Bułka     Ciabatka   \n",
       "3                    4.87         Pieczywo               Bułka     Ciabatka   \n",
       "7                    4.87         Pieczywo               Bułka     Ciabatka   \n",
       "10                   6.09         Pieczywo               Bułka     Ciabatka   \n",
       "11                   8.52         Pieczywo               Bułka     Ciabatka   \n",
       "16                   4.87         Pieczywo               Bułka     Ciabatka   \n",
       "18                   9.74         Pieczywo               Bułka     Ciabatka   \n",
       "20                   9.74         Pieczywo               Bułka     Ciabatka   \n",
       "21                   9.74         Pieczywo               Bułka     Ciabatka   \n",
       "22                  10.96         Pieczywo               Bułka     Ciabatka   \n",
       "\n",
       "            weekday  \n",
       "receipt_id           \n",
       "1                 4  \n",
       "3                 4  \n",
       "7                 4  \n",
       "10                4  \n",
       "11                4  \n",
       "16                4  \n",
       "18                4  \n",
       "20                4  \n",
       "21                4  \n",
       "22                4  "
      ]
     },
     "execution_count": 9,
     "metadata": {},
     "output_type": "execute_result"
    }
   ],
   "source": [
    "dataRaw.head(10)"
   ]
  },
  {
   "cell_type": "markdown",
   "metadata": {},
   "source": [
    "### Podstawowe przekształcenia danych - zmiana typu danych w kolumnie"
   ]
  },
  {
   "cell_type": "code",
   "execution_count": 10,
   "metadata": {},
   "outputs": [],
   "source": [
    "# Change formats\n",
    "dataRaw['datetime'] = pd.to_datetime(dataRaw.date)"
   ]
  },
  {
   "cell_type": "markdown",
   "metadata": {},
   "source": [
    "### Podstawowe przekształcenia danych - dodanie nowych kolumn"
   ]
  },
  {
   "cell_type": "code",
   "execution_count": 11,
   "metadata": {},
   "outputs": [],
   "source": [
    "# Create new Invoice Date and Time variables\n",
    "dataRaw['date'] = dataRaw['datetime'].dt.date\n",
    "dataRaw['time'] = dataRaw['datetime'].dt.time\n",
    "\n",
    "dataRaw['second'] = dataRaw['datetime'].dt.second\n",
    "dataRaw['minute'] = dataRaw['datetime'].dt.minute\n",
    "dataRaw['hour'] = dataRaw['datetime'].dt.hour\n",
    "\n",
    "dataRaw['year'] = dataRaw['datetime'].dt.year\n",
    "dataRaw['month'] = dataRaw['datetime'].dt.month\n",
    "dataRaw['day'] = dataRaw['datetime'].dt.day\n",
    "dataRaw['weekday'] = dataRaw['datetime'].dt.weekday \n",
    "\n",
    "\n",
    "# Create other time-related data\n",
    "dataRaw['weekend'] = 'no'\n",
    "dataRaw.loc[dataRaw.weekday.isin([4,5,6]), 'weekend'] = 'yes'\n",
    "\n",
    "dataRaw['time_of_day'] = '00_06'\n",
    "dataRaw.loc[(dataRaw.time >= datetime.time(6,0,0)) & (dataRaw.time < datetime.time(12,0,0)), 'time_of_day'] = '06_12'\n",
    "dataRaw.loc[(dataRaw.time >= datetime.time(12,0,0)) & (dataRaw.time < datetime.time(18,0,0)), 'time_of_day' ] = '12_18'\n",
    "dataRaw.loc[(dataRaw.time >= datetime.time(18,0,0)) & (dataRaw.time <= datetime.time(23,59,59)), 'time_of_day' ] = '16_24'\n",
    "\n",
    "dataRaw['season'] = 'winter'\n",
    "dataRaw.loc[dataRaw.month.isin([3,4,5]), 'season'] = 'spring'\n",
    "dataRaw.loc[dataRaw.month.isin([6,7,8]), 'season' ] = 'summer'\n",
    "dataRaw.loc[dataRaw.month.isin([9,10,11]), 'season' ] = 'autumn'"
   ]
  },
  {
   "cell_type": "markdown",
   "metadata": {},
   "source": [
    "### Zamiana dni tygodnia z 0-6 na Poniedzialek-Niedziela"
   ]
  },
  {
   "cell_type": "code",
   "execution_count": 12,
   "metadata": {},
   "outputs": [
    {
     "data": {
      "text/plain": [
       "array([4, 5, 6, 0, 1, 2, 3], dtype=int64)"
      ]
     },
     "execution_count": 12,
     "metadata": {},
     "output_type": "execute_result"
    }
   ],
   "source": [
    "dataRaw.weekday.unique()"
   ]
  },
  {
   "cell_type": "code",
   "execution_count": 13,
   "metadata": {},
   "outputs": [],
   "source": [
    "weekdaysMap = {0: \"Poniedzialek\", 1 : \"Wtorek\", 2:\"Sroda\", 3 : \"Czwartek\", 4 : \"Piatek\", 5 : \"Sobota\", 6 :\"Niedziela\"}\n",
    "\n",
    "dataRaw.weekday = dataRaw.weekday.map(weekdaysMap)"
   ]
  },
  {
   "cell_type": "code",
   "execution_count": 14,
   "metadata": {},
   "outputs": [
    {
     "data": {
      "text/plain": [
       "array(['Piatek', 'Sobota', 'Niedziela', 'Poniedzialek', 'Wtorek', 'Sroda',\n",
       "       'Czwartek'], dtype=object)"
      ]
     },
     "execution_count": 14,
     "metadata": {},
     "output_type": "execute_result"
    }
   ],
   "source": [
    "dataRaw.weekday.unique()"
   ]
  },
  {
   "cell_type": "markdown",
   "metadata": {},
   "source": [
    "## Obserwacja 1 : Sprzedaż pieczywa jest wyższa rano niż wieczorem"
   ]
  },
  {
   "cell_type": "markdown",
   "metadata": {},
   "source": [
    "### Gdzie ukryte jest pieczywo?"
   ]
  },
  {
   "cell_type": "code",
   "execution_count": 15,
   "metadata": {},
   "outputs": [
    {
     "data": {
      "text/plain": [
       "array(['Pieczywo', 'Nabiał', 'Mięsa', 'Napoje', 'Przetwory', 'Inne',\n",
       "       'Kawa i herbata'], dtype=object)"
      ]
     },
     "execution_count": 15,
     "metadata": {},
     "output_type": "execute_result"
    }
   ],
   "source": [
    "dataRaw.product_category.unique()"
   ]
  },
  {
   "cell_type": "code",
   "execution_count": 16,
   "metadata": {},
   "outputs": [
    {
     "data": {
      "text/plain": [
       "array(['Pieczywo', 'Nabiał', 'Mięsa', 'Napoje', 'Przetwory', 'Inne',\n",
       "       'Kawa i herbata'], dtype=object)"
      ]
     },
     "execution_count": 16,
     "metadata": {},
     "output_type": "execute_result"
    }
   ],
   "source": [
    "dataRaw[\"product_category\"].unique()"
   ]
  },
  {
   "cell_type": "markdown",
   "metadata": {},
   "source": [
    "### Jakie produkty mamy w kategorii pieczywo?"
   ]
  },
  {
   "cell_type": "code",
   "execution_count": 17,
   "metadata": {},
   "outputs": [
    {
     "data": {
      "text/plain": [
       "array(['Bułka', 'Chleb', 'Bagietka'], dtype=object)"
      ]
     },
     "execution_count": 17,
     "metadata": {},
     "output_type": "execute_result"
    }
   ],
   "source": [
    "dataRaw[dataRaw[\"product_category\"] == \"Pieczywo\"].product_subcategory.unique()"
   ]
  },
  {
   "cell_type": "markdown",
   "metadata": {},
   "source": [
    "### Jak wygląda sprzedaż pieczywa zależnie od godziny?"
   ]
  },
  {
   "cell_type": "code",
   "execution_count": 18,
   "metadata": {},
   "outputs": [
    {
     "data": {
      "image/png": "[encoded data removed]",
      "text/plain": [
       "<Figure size 1440x720 with 1 Axes>"
      ]
     },
     "metadata": {
      "needs_background": "light"
     },
     "output_type": "display_data"
    }
   ],
   "source": [
    "plt.figure(figsize=(20,10))\n",
    "ax = dataRaw[dataRaw[\"product_category\"] == \"Pieczywo\"].groupby(\"hour\").quantity.sum().plot(kind = \"bar\")\n",
    "ax.set(xlabel=\"Godzina\", ylabel=\"Liczba sprzedanych produktów [sztuka]\", title=\"Sprzedaż pieczywa w różnych godzinach\")\n",
    "plt.show()"
   ]
  },
  {
   "cell_type": "markdown",
   "metadata": {},
   "source": [
    "#### Importy"
   ]
  },
  {
   "cell_type": "code",
   "execution_count": 19,
   "metadata": {},
   "outputs": [],
   "source": [
    "from scipy import stats\n",
    "from scipy.stats import ttest_ind, normaltest"
   ]
  },
  {
   "cell_type": "markdown",
   "metadata": {},
   "source": [
    "### Test statystyczny na sprawdzenie Obserwacji 1 "
   ]
  },
  {
   "cell_type": "markdown",
   "metadata": {},
   "source": [
    "1. Hipoteza statystyczna jest założeniem o parametrze populacji. To założenie może się okazać prawdziwe lub nie.\n",
    "\n",
    "2. Mamy dwa typy hipotez statystycznych:\n",
    "     - Hipoteza zerowa – oznaczana jako H0, jest zwykle hipotezą, gdzie wyniki z próbek obserwacyjnych wynikają z czystego przypadku.\n",
    "     - Hipoteza alternatywna – oznaczano jako H1, jest hipotezą, gdzie wyniki z próbek obserwacyjnych są zdefiniowane przez jakąś nielosową przyczynę.\n",
    "     \n",
    "     \n",
    "3. Jak interpretować wynik?\n",
    "     - O interpretacji wyniku testu statystycznego decyduje metryka p-value. Jeśli p-value jest mniejsze od 0.05 to odrzucamy hipotezę zerową, w przeciwnym przypadku mówi się o braku podstawy do odrzucenia hipotezy zerowej."
   ]
  },
  {
   "cell_type": "markdown",
   "metadata": {},
   "source": [
    "#### ttest_ind - co zakłada? (fragment dokumentacji pakietu scipy)"
   ]
  },
  {
   "cell_type": "markdown",
   "metadata": {},
   "source": [
    "scipy.stats.ttest_ind(a, b, axis=0, equal_var=True, nan_policy='propagate')\n",
    "Calculate the T-test for the means of two independent samples of scores.\n",
    "\n",
    "This is a two-sided test for the null hypothesis that 2 independent samples have identical average (expected) values."
   ]
  },
  {
   "cell_type": "markdown",
   "metadata": {},
   "source": [
    "Hipoteza zerowa - dwie niezależne próbki mają takie same średnie\n",
    "- jeśli p-value >= 0.05 - nie ma podstaw do odrzucenia hipotezy zerowej, próbki mają takie same średnie\n",
    "- jeśli p-value < 0.05 - odrzucamy hipotezę zerową, próbki nie mają takiej samej średniej"
   ]
  },
  {
   "cell_type": "markdown",
   "metadata": {},
   "source": [
    "##### Czy sprzedaż pieczywa jest istotnie wyższa statystycznie rano niż w pozostałych porach dnia? (Rano - 8 i 9)  "
   ]
  },
  {
   "cell_type": "code",
   "execution_count": 20,
   "metadata": {},
   "outputs": [],
   "source": [
    "sprzedazPieczywa = dataRaw[dataRaw[\"product_category\"] == \"Pieczywo\"]"
   ]
  },
  {
   "cell_type": "code",
   "execution_count": 21,
   "metadata": {
    "scrolled": true
   },
   "outputs": [
    {
     "data": {
      "text/plain": [
       "Ttest_indResult(statistic=49.59037603160165, pvalue=0.0)"
      ]
     },
     "execution_count": 21,
     "metadata": {},
     "output_type": "execute_result"
    }
   ],
   "source": [
    "rano = sprzedazPieczywa[sprzedazPieczywa[\"hour\"].isin([8,9])]\n",
    "nieRano = sprzedazPieczywa[~sprzedazPieczywa[\"hour\"].isin([8,9])]\n",
    "ttest_ind(rano[\"quantity\"], nieRano[\"quantity\"])"
   ]
  },
  {
   "cell_type": "markdown",
   "metadata": {},
   "source": [
    "### Sprawdzenie czasu wykonywania - czas tkwi w szczegółach"
   ]
  },
  {
   "cell_type": "markdown",
   "metadata": {},
   "source": [
    "W celu optymalizacji czasu trwania wykonywania kodu należy zastanowić się nad kolejnością wykonywanych działań. \n",
    "\n",
    "Możemy wyliczyć sumę dla wszystkich kolumn, a następnie wybrać jedną z nich lub wybrać jedną kolumnę, a następnie wyliczyć dla niej sumę."
   ]
  },
  {
   "cell_type": "code",
   "execution_count": 22,
   "metadata": {},
   "outputs": [],
   "source": [
    "def groupByQuantity1(df, aggColName):\n",
    "    df.groupby(aggColName).sum().quantity\n",
    "    \n",
    "def groupByQuantity2(df, aggColName):\n",
    "    df.groupby(aggColName).quantity.sum()"
   ]
  },
  {
   "cell_type": "markdown",
   "metadata": {},
   "source": [
    "Przypadek 1 : Funkcja agregująca i wybranie kolumny"
   ]
  },
  {
   "cell_type": "code",
   "execution_count": 23,
   "metadata": {
    "scrolled": true
   },
   "outputs": [
    {
     "name": "stdout",
     "output_type": "stream",
     "text": [
      "0.35282120000000106\n"
     ]
    }
   ],
   "source": [
    "import timeit\n",
    "\n",
    "executionTime1 = timeit.timeit(\"groupByQuantity1(dataRaw, 'hour')\", number=1, globals=globals())\n",
    "print(executionTime1)"
   ]
  },
  {
   "cell_type": "markdown",
   "metadata": {},
   "source": [
    "Przypadek 2 : Wybranie kolumny i funkcja agregująca"
   ]
  },
  {
   "cell_type": "code",
   "execution_count": 24,
   "metadata": {},
   "outputs": [
    {
     "name": "stdout",
     "output_type": "stream",
     "text": [
      "0.034226799999999\n"
     ]
    }
   ],
   "source": [
    "executionTime2 = timeit.timeit(\"groupByQuantity2(dataRaw, 'hour')\", number=1, globals=globals())\n",
    "print(executionTime2)"
   ]
  },
  {
   "cell_type": "markdown",
   "metadata": {},
   "source": [
    "Sprawdźmy to dla wielu powtórzeń"
   ]
  },
  {
   "cell_type": "code",
   "execution_count": 25,
   "metadata": {},
   "outputs": [
    {
     "name": "stdout",
     "output_type": "stream",
     "text": [
      "34.57762149999999\n"
     ]
    }
   ],
   "source": [
    "executionTime3 = timeit.timeit(\"groupByQuantity1(dataRaw, 'hour')\", number=100, globals=globals())\n",
    "print(executionTime3)"
   ]
  },
  {
   "cell_type": "code",
   "execution_count": 26,
   "metadata": {},
   "outputs": [
    {
     "name": "stdout",
     "output_type": "stream",
     "text": [
      "3.179961999999996\n"
     ]
    }
   ],
   "source": [
    "executionTime4 = timeit.timeit(\"groupByQuantity2(dataRaw, 'hour')\", number=100, globals=globals())\n",
    "print(executionTime4)"
   ]
  },
  {
   "cell_type": "markdown",
   "metadata": {},
   "source": [
    "## Zadanie 1 : Sprzedaż nabiału w różne dni"
   ]
  },
  {
   "cell_type": "markdown",
   "metadata": {},
   "source": [
    "### Jak wygląda ilość sprzedanych produktów o kategorii \"Nabiał\" zależnie od dnia tygodnia?\n",
    "\n",
    "Obserwacja : Wolumen sprzedaży nabiału różni się w zależności od tego czy jest weekend czy dzień roboczy"
   ]
  },
  {
   "cell_type": "markdown",
   "metadata": {},
   "source": [
    "## Przejdźmy do pracy w grupach"
   ]
  },
  {
   "cell_type": "markdown",
   "metadata": {},
   "source": [
    "Podpowiedź: \n",
    "    1. Wybierz tylko wiersze w których product_category jest równe \"Nabiał\"\n",
    "    2. Zgrupuj dane po dniu - .groupby(\"nazwa_kolumny\")\n",
    "    3. Wybierz odpowiednią kolumnę\n",
    "    4. Wybierz odpowiednią agregację danych - .sum()\n",
    "    5. Przedstaw wyniki na wykresie słupkowym"
   ]
  },
  {
   "cell_type": "code",
   "execution_count": 27,
   "metadata": {},
   "outputs": [
    {
     "ename": "SyntaxError",
     "evalue": "invalid syntax (<ipython-input-27-4d96ba99c640>, line 3)",
     "output_type": "error",
     "traceback": [
      "\u001b[1;36m  File \u001b[1;32m\"<ipython-input-27-4d96ba99c640>\"\u001b[1;36m, line \u001b[1;32m3\u001b[0m\n\u001b[1;33m    dataForPlot =  dataRaw[\"wybierz_odpowiednią_kategorię\"].\"grupowanie\".\"wybierz_kolumne\".\"funkcja_agregująca\".plot(\"rodzaj wykresu\")\u001b[0m\n\u001b[1;37m                                                                       ^\u001b[0m\n\u001b[1;31mSyntaxError\u001b[0m\u001b[1;31m:\u001b[0m invalid syntax\n"
     ]
    }
   ],
   "source": [
    "plt.figure(figsize=(20,10))\n",
    "\n",
    "dataForPlot =  dataRaw[\"wybierz_odpowiednią_kategorię\"].\"grupowanie\".\"wybierz_kolumne\".\"funkcja_agregująca\".plot(\"rodzaj wykresu\")\n",
    "\n",
    "ax = dataForPlot.plot(kind = \"bar\")\n",
    "\n",
    "ax.set(xlabel=\"Dzień tygodnia\", ylabel=\"Liczba sprzedanych produktów [sztuka]\", title=\"Sprzedaż nabiału w różne dni tygodnia\")\n",
    "plt.show()"
   ]
  },
  {
   "cell_type": "code",
   "execution_count": null,
   "metadata": {},
   "outputs": [],
   "source": [
    "#Sprawdzenie poprawności wyników\n",
    "# Konstrukcja : assert <warunek_logiczny>, \"Komunikat_błędu\"\n",
    "assert dataForPlot.iloc[0] == 9043, \"Błędny wynik\""
   ]
  },
  {
   "cell_type": "markdown",
   "metadata": {},
   "source": [
    "### Test statystyczny na potwierdzenie / odrzucenie hipotezy"
   ]
  },
  {
   "cell_type": "code",
   "execution_count": null,
   "metadata": {
    "scrolled": false
   },
   "outputs": [],
   "source": [
    "nabial_weekend = dataRaw[\"warunek_dla_wybrania_tylko_dni_weekendowych\"]\n",
    "nabial_weekday = dataRaw[\"warunek_dla_wybrania_tylko_dni_nie_weekendowych\"]\n",
    "\n",
    "ttest_ind(nabial_weekend[\"quantity\"], nabial_weekday[\"quantity\"])"
   ]
  },
  {
   "cell_type": "markdown",
   "metadata": {},
   "source": [
    "## Zastanówmy się jaka może być przyczyna tych różnic"
   ]
  },
  {
   "cell_type": "code",
   "execution_count": null,
   "metadata": {},
   "outputs": [],
   "source": [
    "dataFor2016 = dataRaw[dataRaw.year == 2016].groupby(\"weekday\").quantity.sum()\n",
    "dataFor2017 = dataRaw[dataRaw.year == 2017].groupby(\"weekday\").quantity.sum()\n",
    "dataFor2018 = dataRaw[dataRaw.year == 2018].groupby(\"weekday\").quantity.sum()"
   ]
  },
  {
   "cell_type": "code",
   "execution_count": null,
   "metadata": {},
   "outputs": [],
   "source": [
    "ax1 = dataFor2016.plot(kind = \"bar\")"
   ]
  },
  {
   "cell_type": "code",
   "execution_count": null,
   "metadata": {},
   "outputs": [],
   "source": [
    "ax2 = dataFor2017.plot(kind = \"bar\")"
   ]
  },
  {
   "cell_type": "code",
   "execution_count": null,
   "metadata": {},
   "outputs": [],
   "source": [
    "ax3 = dataFor2018.plot(kind = \"bar\")"
   ]
  },
  {
   "cell_type": "markdown",
   "metadata": {},
   "source": [
    "## Obserwacja 2 : Sprzedaż w sieci sklepów rośnie 20- 25% r/r."
   ]
  },
  {
   "cell_type": "markdown",
   "metadata": {},
   "source": [
    "### Jaka była sprzedaż zależnie od roku?"
   ]
  },
  {
   "cell_type": "markdown",
   "metadata": {},
   "source": [
    "#### Sprzedaż ilościowa?"
   ]
  },
  {
   "cell_type": "code",
   "execution_count": 28,
   "metadata": {},
   "outputs": [
    {
     "data": {
      "text/plain": [
       "year\n",
       "2016    448730\n",
       "2017    712241\n",
       "2018    888662\n",
       "Name: quantity, dtype: int64"
      ]
     },
     "execution_count": 28,
     "metadata": {},
     "output_type": "execute_result"
    }
   ],
   "source": [
    "dataRaw.groupby(\"year\").quantity.sum()"
   ]
  },
  {
   "cell_type": "markdown",
   "metadata": {},
   "source": [
    "#### Jak przełożyło się to na wartość sprzedaży?"
   ]
  },
  {
   "cell_type": "code",
   "execution_count": 29,
   "metadata": {},
   "outputs": [
    {
     "data": {
      "text/plain": [
       "year\n",
       "2016    1.446251e+06\n",
       "2017    2.590935e+06\n",
       "2018    3.481357e+06\n",
       "Name: cost, dtype: float64"
      ]
     },
     "execution_count": 29,
     "metadata": {},
     "output_type": "execute_result"
    }
   ],
   "source": [
    "dataRaw.groupby(\"year\").cost.sum()"
   ]
  },
  {
   "cell_type": "markdown",
   "metadata": {},
   "source": [
    "### Jaka była sprzedaż porównując rok do roku? "
   ]
  },
  {
   "cell_type": "markdown",
   "metadata": {},
   "source": [
    "... pod względem liczby sprzedanych produktów"
   ]
  },
  {
   "cell_type": "code",
   "execution_count": 30,
   "metadata": {},
   "outputs": [
    {
     "data": {
      "text/plain": [
       "year\n",
       "2016         NaN\n",
       "2017    0.587237\n",
       "2018    0.247698\n",
       "Name: quantity, dtype: float64"
      ]
     },
     "execution_count": 30,
     "metadata": {},
     "output_type": "execute_result"
    }
   ],
   "source": [
    "dataRaw.groupby(\"year\").quantity.sum().pct_change()"
   ]
  },
  {
   "cell_type": "markdown",
   "metadata": {},
   "source": [
    "... pod względem wartości sprzedaży produktów"
   ]
  },
  {
   "cell_type": "code",
   "execution_count": 31,
   "metadata": {},
   "outputs": [
    {
     "data": {
      "text/plain": [
       "year\n",
       "2016         NaN\n",
       "2017    0.791483\n",
       "2018    0.343668\n",
       "Name: cost, dtype: float64"
      ]
     },
     "execution_count": 31,
     "metadata": {},
     "output_type": "execute_result"
    }
   ],
   "source": [
    "dataRaw.groupby(\"year\").cost.sum().pct_change()"
   ]
  },
  {
   "cell_type": "markdown",
   "metadata": {},
   "source": [
    "#### Sprawdźmy to ręcznie ?"
   ]
  },
  {
   "cell_type": "code",
   "execution_count": 32,
   "metadata": {},
   "outputs": [
    {
     "data": {
      "text/plain": [
       "0.791483635966371"
      ]
     },
     "execution_count": 32,
     "metadata": {},
     "output_type": "execute_result"
    }
   ],
   "source": [
    "(2.590935e+06 - 1.446251e+06) / 1.446251e+06"
   ]
  },
  {
   "cell_type": "code",
   "execution_count": 33,
   "metadata": {},
   "outputs": [
    {
     "data": {
      "text/plain": [
       "0.34366821244068263"
      ]
     },
     "execution_count": 33,
     "metadata": {},
     "output_type": "execute_result"
    }
   ],
   "source": [
    "(3.481357e+06 - 2.590935e+06) / 2.590935e+06"
   ]
  },
  {
   "cell_type": "markdown",
   "metadata": {},
   "source": [
    "### Jak to wygląda na wykresie?"
   ]
  },
  {
   "cell_type": "code",
   "execution_count": 34,
   "metadata": {},
   "outputs": [
    {
     "data": {
      "image/png": "[encoded data removed]",
      "text/plain": [
       "<Figure size 1440x720 with 1 Axes>"
      ]
     },
     "metadata": {
      "needs_background": "light"
     },
     "output_type": "display_data"
    }
   ],
   "source": [
    "plt.figure(figsize=(20,10))\n",
    "dataRaw.groupby(\"year\").cost.sum().plot(kind = \"bar\")\n",
    "plt.show()"
   ]
  },
  {
   "cell_type": "markdown",
   "metadata": {},
   "source": [
    "## Zadanie 2 : Jak zmieniała się miesięczna sprzedaż w 2017? \n"
   ]
  },
  {
   "cell_type": "markdown",
   "metadata": {},
   "source": [
    "## Przejdźmy do pracy w grupach"
   ]
  },
  {
   "cell_type": "markdown",
   "metadata": {},
   "source": [
    "Podpowiedź:\n",
    "    1. Wykonaj filtrowanie wybierając tylko 2017\n",
    "    2. Zgrupuj dane po miesiącu - .groupby(\"nazwa_kolumny\")\n",
    "    3. Wybierz odpowiednią kolumnę - .cost.\n",
    "    4. Wykonaj odpowiednią agregację danych - .sum()"
   ]
  },
  {
   "cell_type": "markdown",
   "metadata": {},
   "source": [
    "#### Jak wyglądała miesięczna sprzedaż w 2017 roku zależnie od miesiąca?"
   ]
  },
  {
   "cell_type": "code",
   "execution_count": null,
   "metadata": {},
   "outputs": [],
   "source": [
    "monthly_sums_for_2017 = dataRaw[\"warunek filtrujący odpowiedni rok\"].\"grupowanie\".\"odpowiednia_kolumna\".\"funkcja_agregująca\"\n",
    "monthly_sums_for_2017"
   ]
  },
  {
   "cell_type": "code",
   "execution_count": null,
   "metadata": {},
   "outputs": [],
   "source": [
    "assert round(monthly_sums_for_2017.loc[1]) == round(224913.49), \"Błędny wynik\""
   ]
  },
  {
   "cell_type": "markdown",
   "metadata": {},
   "source": [
    "#### Jak wygląda to na wykresie?"
   ]
  },
  {
   "cell_type": "code",
   "execution_count": null,
   "metadata": {},
   "outputs": [],
   "source": [
    "plt.figure(figsize=(20,10))\n",
    "\n",
    "dataRaw[\"warunek filtrujący odpowiedni rok\"].\"grupowanie\".\"odpowiednia_kolumna\".\"funkcja_agregująca\".plot(\"rodzaj_wykresu\")\n",
    "plt.show()"
   ]
  },
  {
   "cell_type": "markdown",
   "metadata": {},
   "source": [
    "#### Jak wyglądała procentowa zmiana?"
   ]
  },
  {
   "cell_type": "code",
   "execution_count": null,
   "metadata": {},
   "outputs": [],
   "source": [
    "dataRaw[\"warunek filtrujący odpowiedni rok\"].\"grupowanie\".\"odpowiednia_kolumna\".\"funkcja_agregująca\".\"funkcja_licząca_zmianę\""
   ]
  },
  {
   "cell_type": "markdown",
   "metadata": {},
   "source": [
    "#### Jak wyglądała procentowa miesięczna zmiana zależnie od roku?"
   ]
  },
  {
   "cell_type": "code",
   "execution_count": null,
   "metadata": {
    "scrolled": true
   },
   "outputs": [],
   "source": [
    "dataRaw.\"grupowanie_po_dwóch_kolumnach\".\"odpowiednia_kolumna\".\"funkcja_agregująca\".\"funkcja_licząca_zmianę\""
   ]
  },
  {
   "cell_type": "code",
   "execution_count": null,
   "metadata": {},
   "outputs": [],
   "source": [
    "plt.figure(figsize=(20,10))\n",
    "sns.barplot(x = \"year\", y= \"quantity\", data = dataRaw, hue = \"month\", estimator= sum)\n",
    "plt.show()"
   ]
  },
  {
   "cell_type": "markdown",
   "metadata": {},
   "source": [
    "#### Jaka była średnia procentowa miesięczna zmiana sprzedaży w 2017 roku?"
   ]
  },
  {
   "cell_type": "code",
   "execution_count": null,
   "metadata": {},
   "outputs": [],
   "source": [
    "monthly_percentage_change = dataRaw[\"warunek filtrujący odpowiedni rok\"].\"grupowanie\".\"odpowiednia_kolumna\".\"funkcja_agregująca\".\"funkcja_licząca_zmianę\".\"funkcja_agregująca\"\n",
    "monthly_percentage_change"
   ]
  },
  {
   "cell_type": "code",
   "execution_count": null,
   "metadata": {},
   "outputs": [],
   "source": [
    "assert monthly_percentage_change == -0.0040302756832553835, \"Błędny wynik\""
   ]
  },
  {
   "cell_type": "markdown",
   "metadata": {},
   "source": [
    "## Obserwacja 3 : Jak wprowadzenie zakazu handlu w niedziele odbiło się na dochodach sieci? "
   ]
  },
  {
   "cell_type": "markdown",
   "metadata": {},
   "source": [
    "### Ilość sprzedawanych produktów zależnie od roku"
   ]
  },
  {
   "cell_type": "code",
   "execution_count": 35,
   "metadata": {},
   "outputs": [
    {
     "data": {
      "text/plain": [
       "year\n",
       "2016    448730\n",
       "2017    712241\n",
       "2018    888662\n",
       "Name: quantity, dtype: int64"
      ]
     },
     "execution_count": 35,
     "metadata": {},
     "output_type": "execute_result"
    }
   ],
   "source": [
    "dataRaw.groupby(\"year\").quantity.sum()"
   ]
  },
  {
   "cell_type": "markdown",
   "metadata": {},
   "source": [
    "### Jak wyglądają dochody zależnie od roku"
   ]
  },
  {
   "cell_type": "code",
   "execution_count": 36,
   "metadata": {},
   "outputs": [
    {
     "data": {
      "text/plain": [
       "year\n",
       "2016    1.446251e+06\n",
       "2017    2.590935e+06\n",
       "2018    3.481357e+06\n",
       "Name: cost, dtype: float64"
      ]
     },
     "execution_count": 36,
     "metadata": {},
     "output_type": "execute_result"
    }
   ],
   "source": [
    "dataRaw.groupby(\"year\").cost.sum()"
   ]
  },
  {
   "cell_type": "markdown",
   "metadata": {},
   "source": [
    "### Jak wygląda to na wykresie?"
   ]
  },
  {
   "cell_type": "code",
   "execution_count": 37,
   "metadata": {},
   "outputs": [
    {
     "data": {
      "image/png": "[encoded data removed]",
      "text/plain": [
       "<Figure size 1440x720 with 1 Axes>"
      ]
     },
     "metadata": {
      "needs_background": "light"
     },
     "output_type": "display_data"
    }
   ],
   "source": [
    "plt.figure(figsize=(20,10))\n",
    "sns.barplot(x = \"year\", y= \"cost\", data = dataRaw)\n",
    "plt.show()"
   ]
  },
  {
   "cell_type": "markdown",
   "metadata": {},
   "source": [
    "### Co wyświetlane jest na wykresie? Średnia / mediana / suma ? \n",
    "\n",
    "https://seaborn.pydata.org/generated/seaborn.barplot.html"
   ]
  },
  {
   "cell_type": "code",
   "execution_count": null,
   "metadata": {},
   "outputs": [],
   "source": [
    "plt.figure(figsize=(20,10))\n",
    "sns.barplot(x = \"year\", y= \"cost\", data = dataRaw, estimator= sum) # musimy dodać parametr \"estimator\"\n",
    "plt.show()"
   ]
  },
  {
   "cell_type": "code",
   "execution_count": null,
   "metadata": {},
   "outputs": [],
   "source": [
    "plt.figure(figsize=(20,10))\n",
    "sns.barplot(x = \"year\", y= \"quantity\", data = dataRaw, hue = \"weekday\", estimator= sum)\n",
    "plt.show()"
   ]
  },
  {
   "cell_type": "markdown",
   "metadata": {},
   "source": [
    "## Zadanie 3 : Przedstaw na wykresie sprzedaż produktów w kategoriach Mięsa, Napoje, Przetwory i Inne w perspektywie lat z podziałem na dni"
   ]
  },
  {
   "cell_type": "markdown",
   "metadata": {},
   "source": [
    "## Przejdźmy do pracy w grupach"
   ]
  },
  {
   "cell_type": "markdown",
   "metadata": {},
   "source": [
    "Podpowiedź : \n",
    "    1. Wykorzystaj .isin([element1, element2, ...]) do wyfiltrowania odpowiednich kategorii produktów\n",
    "    2. Przedstawe dane na wykresie sns.barplot(data = nazwa_dataframu, x = \"kolumna_na_osi_OX\", y = \"kolumna_na_osi_OY\",\n",
    "        hue = \"kolumna_tworząca_dodatkowy_podział\", estimator = funkcja_agregująca)"
   ]
  },
  {
   "cell_type": "code",
   "execution_count": null,
   "metadata": {},
   "outputs": [],
   "source": [
    "plt.figure(figsize=(20,10))\n",
    "dataForPlot = dataRaw[\"wybierz produkty określonych kategorii\"]\n",
    "sns.barplot(x = \"year\", y= \"cost\", data = dataForPlot, hue = \"weekday\" , estimator= sum)\n",
    "plt.show()"
   ]
  },
  {
   "cell_type": "code",
   "execution_count": null,
   "metadata": {},
   "outputs": [],
   "source": [
    "assert round(dataForPlot.cost.mean(),2) == 19.82, \"Błędny wynik\""
   ]
  },
  {
   "cell_type": "markdown",
   "metadata": {},
   "source": [
    "## Obserwacja 4 : Sprzedaż poza Warszawą jest niższa o 20% "
   ]
  },
  {
   "cell_type": "code",
   "execution_count": null,
   "metadata": {},
   "outputs": [],
   "source": [
    "locFileName = \"Lokalizacje.csv\"\n",
    "\n",
    "dataLocPath = os.path.join(dataFolderPath, locFileName)\n",
    "\n",
    "locDataRaw = pd.read_csv(dataLocPath, index_col = \"location_id\")"
   ]
  },
  {
   "cell_type": "code",
   "execution_count": null,
   "metadata": {},
   "outputs": [],
   "source": [
    "locDataRaw.head()"
   ]
  },
  {
   "cell_type": "code",
   "execution_count": null,
   "metadata": {
    "scrolled": true
   },
   "outputs": [],
   "source": [
    "dataWithLoc = dataRaw.merge(locDataRaw, left_on = \"location_id\", right_on = \"location_id\", how = \"left\")"
   ]
  },
  {
   "cell_type": "code",
   "execution_count": null,
   "metadata": {},
   "outputs": [],
   "source": [
    "warszawaVsReszta = dataWithLoc.groupby(\"location_name\").sum().quantity / dataWithLoc.groupby(\"location_name\").sum().quantity[\"Warszawa\"]"
   ]
  },
  {
   "cell_type": "code",
   "execution_count": null,
   "metadata": {},
   "outputs": [],
   "source": [
    "plt.figure(figsize=(20,10))\n",
    "warszawaVsReszta.plot(kind= \"bar\")\n",
    "plt.show()"
   ]
  },
  {
   "cell_type": "markdown",
   "metadata": {},
   "source": [
    "## Zadanie 4: Jaką część całości sprzedaży stanowi sprzedaż w Warszawie?"
   ]
  },
  {
   "cell_type": "markdown",
   "metadata": {},
   "source": [
    "## Przejdźmy do pracy w grupach"
   ]
  },
  {
   "cell_type": "markdown",
   "metadata": {},
   "source": [
    "### Jak wygląda to w ilości sprzedanych produktów?"
   ]
  },
  {
   "cell_type": "code",
   "execution_count": null,
   "metadata": {},
   "outputs": [],
   "source": [
    "saleInWarsawQuantity = dataWithLoc[\"Warunek na lokalizację\"].\"Wybór kolumny\".\"funkcja_agregująca\"\n",
    "totalSaleQuantity = dataWithLoc.\"wybór kolumny\".\"funkcja_agregująca\"\n",
    "\n",
    "percentageWarsawVsOthersQuantity = (\"dataframe1\" / \"dataframe2\") *100\n",
    "percentageWarsawVsOthersQuantity"
   ]
  },
  {
   "cell_type": "markdown",
   "metadata": {},
   "source": [
    "### Jak wygląda to w dochodzie ze sprzedanych produktów?"
   ]
  },
  {
   "cell_type": "code",
   "execution_count": null,
   "metadata": {},
   "outputs": [],
   "source": [
    "saleInWarsawCost = dataWithLoc[\"Warunek na lokalizację\"].\"Wybór kolumny\".\"funkcja_agregująca\"\n",
    "totalSaleCost = dataWithLoc.\"wybór kolumny\".\"funkcja_agregująca\"\n",
    "\n",
    "percentageWarsawVsOthersCost = (\"dataframe1\" / \"dataframe2\") *100\n",
    "percentageWarsawVsOthersCost"
   ]
  },
  {
   "cell_type": "markdown",
   "metadata": {},
   "source": [
    "#### Sprawdzenie poprawności otrzynamych wyników"
   ]
  },
  {
   "cell_type": "code",
   "execution_count": null,
   "metadata": {},
   "outputs": [],
   "source": [
    "assert round(percentageWarsawVsOthersQuantity,1) == 38.2 , \"Błędne dane\"\n",
    "assert round(percentageWarsawVsOthersCost,1) == 38.2 , \"Błędne dane\""
   ]
  },
  {
   "cell_type": "markdown",
   "metadata": {},
   "source": [
    "## Obserwacja 5 : Występowanie korealcji zakupionych produktów dla klientów"
   ]
  },
  {
   "cell_type": "markdown",
   "metadata": {},
   "source": [
    "---------\n",
    "### Czym jest korelacja i jak ją wyliczyć?\n",
    "\n",
    "1. Analiza korelacji w statystyce polega na zbadaniu jak dwie zmienne są ze sobą powiązane.\n",
    "2. Obliczany współczynnik zawiera się w przedziale od -1 do 1.\n",
    "3. Jak interpretować wyniki (z dokładnością do ABS) : \n",
    "    - < 0, 0.3 > - związek słaby\n",
    "    - ( 0.3, 0.5 > - związek umiarkowanie silny\n",
    "    - ( 0.5 , 1 > - związek silny / bardzo silny\n",
    "  \n",
    " Wynikiem .corr z biblioteki Pandas jest macierz N x N zawierająca współczynniki korelacji dla każdej możliwej pary produktów,   jednak wcześniej musimy doprowadzić dane do odpowiedniego formatu. \n",
    " \n",
    " Format niezbędny do wyliczenia współczynników korelacji:\n",
    "  - kolumny - produkty\n",
    "  - indeksy - klienci\n",
    "  - wartości - suma produktów danego typu dla konkretnego klienta\n",
    " \n",
    " Musimy zmienić format danych z: \n",
    "\n",
    "| Klient   | Produkt   | Liczba |\n",
    "|-----------|-----------|--------|\n",
    "| Klient_1 | Produkt_1 | 1      |\n",
    "| Klient_2 | Produkt_2 | 2      |\n",
    "| Klient_2 | Produkt_3 | 1      |\n",
    "| Klient_3 | Produkt_1 | 2      |\n",
    "| Klient_3 | Produkt_2 | 5      |\n",
    "\n",
    "\n",
    " na format : \n",
    "\n",
    "\n",
    "|          | Produkt_1 | Produkt_2 | Produkt_3 |\n",
    "|-----------|-----------|-----------|-----------|\n",
    "| Klient_1 | 1         | Nan       | Nan       |\n",
    "| Klient_2 | NaN       | 2         | 1         |\n",
    "| Klient_3 | 2         | 5         | Nan       |\n",
    "\n",
    "W celu przygotowania takiej tabelu korzystamy z pd.pivot_table : \n",
    "     \n",
    "    pd.pivot_table(dataframe, values=\"wartości_nowej_tabeli\", index=\"indeksy_nowej_tabeli\", columns=\"kolumny_nowej_tabeli\", aggfunc= funkcja_agregująca)\n"
   ]
  },
  {
   "cell_type": "code",
   "execution_count": null,
   "metadata": {
    "scrolled": true
   },
   "outputs": [],
   "source": [
    "dataPivoted = pd.pivot_table(dataRaw, values='quantity', index=\"client_id\", columns=\"product_id\", aggfunc=np.sum)"
   ]
  },
  {
   "cell_type": "code",
   "execution_count": null,
   "metadata": {},
   "outputs": [],
   "source": [
    "corr = dataPivoted.corr(method='spearman')"
   ]
  },
  {
   "cell_type": "code",
   "execution_count": null,
   "metadata": {},
   "outputs": [],
   "source": [
    "plt.figure(figsize=(20,10))\n",
    "sns.heatmap(corr, xticklabels=corr.columns, yticklabels=corr.columns)"
   ]
  },
  {
   "cell_type": "code",
   "execution_count": null,
   "metadata": {
    "scrolled": true
   },
   "outputs": [],
   "source": [
    "top10_correlated_products = corr.rename_axis('product2_id').unstack().abs().sort_values().drop_duplicates()[-10:-1]"
   ]
  },
  {
   "cell_type": "code",
   "execution_count": null,
   "metadata": {},
   "outputs": [],
   "source": [
    "top10_correlated_products"
   ]
  },
  {
   "cell_type": "code",
   "execution_count": null,
   "metadata": {},
   "outputs": [],
   "source": [
    "correlation_df = pd.DataFrame(top10_correlated_products, index = None).reset_index()"
   ]
  },
  {
   "cell_type": "code",
   "execution_count": null,
   "metadata": {},
   "outputs": [],
   "source": [
    "correlation_df.columns"
   ]
  },
  {
   "cell_type": "code",
   "execution_count": null,
   "metadata": {},
   "outputs": [],
   "source": [
    "columns_names = [str(x) for x in correlation_df.columns]\n",
    "new_columns_names = [\"product_1\", \"product_2\", \"corr_coef\"]\n",
    "columns_names_dict = dict(zip(columns_names, new_columns_names))\n",
    "columns_names_dict"
   ]
  },
  {
   "cell_type": "code",
   "execution_count": null,
   "metadata": {},
   "outputs": [],
   "source": [
    "correlation_df.columns = correlation_df.columns.map(str)"
   ]
  },
  {
   "cell_type": "code",
   "execution_count": null,
   "metadata": {},
   "outputs": [],
   "source": [
    "correlation_df.columns"
   ]
  },
  {
   "cell_type": "code",
   "execution_count": null,
   "metadata": {},
   "outputs": [],
   "source": [
    "correlation_df.rename(columns_names_dict , inplace=True)"
   ]
  },
  {
   "cell_type": "code",
   "execution_count": null,
   "metadata": {
    "scrolled": true
   },
   "outputs": [],
   "source": [
    "correlation_df"
   ]
  },
  {
   "cell_type": "markdown",
   "metadata": {},
   "source": [
    "## Zadanie 5 : Jakie to produkty? "
   ]
  },
  {
   "cell_type": "markdown",
   "metadata": {},
   "source": [
    "## Przejdźmy do pracy w grupach"
   ]
  },
  {
   "cell_type": "markdown",
   "metadata": {},
   "source": [
    "Podpowiedź : \n",
    "    1. Wczytaj dane z pliku \"Produkty.csv\" - pd.read_csv(...)\n",
    "    2. Dołącz wczytane dane do dataframu dwukrotnie - dla obu produktów "
   ]
  },
  {
   "cell_type": "code",
   "execution_count": null,
   "metadata": {},
   "outputs": [],
   "source": [
    "prodFileName = \"Produkty.csv\"\n",
    "dataProdPath = os.path.join(dataFolderPath, prodFileName)\n",
    "\n",
    "prodDataRaw = pd.read_csv(\"podaj ścieżkę z której chcesz wczytać dane\")\n",
    "productsDf = prodDataRaw[[\"product_id\", \"product_name\"]]"
   ]
  },
  {
   "cell_type": "code",
   "execution_count": null,
   "metadata": {},
   "outputs": [],
   "source": [
    "correlation_df"
   ]
  },
  {
   "cell_type": "code",
   "execution_count": null,
   "metadata": {},
   "outputs": [],
   "source": [
    "productsDf"
   ]
  },
  {
   "cell_type": "code",
   "execution_count": null,
   "metadata": {},
   "outputs": [],
   "source": [
    "correlation_df_with_names = correlation_df.merge(productsDf, left_on = \"Kolumna z pierwszego datasetu, po której chcemy się łączyć\", right_on = \"Kolumna z drugiego datasetu, po której chcemy się łączyć\", how = \"jaki rodzaj łączenia chcemy zastosować\")\n",
    "correlation_df_with_names = correlation_df_with_names.merge(productsDf, left_on = \"Kolumna z pierwszego datasetu, po której chcemy się łączyć\", right_on = \"Kolumna z drugiego datasetu, po której chcemy się łączyć\", how = \"jaki rodzaj łączenia chcemy zastosować\")"
   ]
  },
  {
   "cell_type": "code",
   "execution_count": null,
   "metadata": {},
   "outputs": [],
   "source": [
    "correlation_df_with_names"
   ]
  },
  {
   "cell_type": "code",
   "execution_count": null,
   "metadata": {},
   "outputs": [],
   "source": [
    "assert correlation_df_with_names.iloc[0].product_id_y == 52, \"Błędne dane\""
   ]
  },
  {
   "cell_type": "markdown",
   "metadata": {},
   "source": [
    "## Zadanie 6 : Sprawdzenie korelacji występowania kategorii produktów"
   ]
  },
  {
   "cell_type": "markdown",
   "metadata": {},
   "source": [
    "## Przejdźmy do pracy w grupach"
   ]
  },
  {
   "cell_type": "markdown",
   "metadata": {},
   "source": [
    "Podpowiedź:\n",
    "    1. Wykonaj pd.pivot_table\n",
    "    2. Na pivot_table wywołaj .corr() dla wyliczenia współczynników korelacji między poszczególnymi elementami macierzy\n",
    "    3. Przedstawe wyniki na heatmapie \n",
    "    4. Sprawdź jakie kategorie produktów są ze sobą najbardziej skorelowane"
   ]
  },
  {
   "cell_type": "code",
   "execution_count": null,
   "metadata": {},
   "outputs": [],
   "source": [
    "dataPivoted = pd.pivot_table(\"nazwa datasetu\", values=\"Kolumna tworząca wartości tabeli\", index=\"Kolumna tworząca indesy tabeli\", columns=\"Kolumna tworząca kolumny tabeli\", aggfunc=\"funkcja_agregująca\")"
   ]
  },
  {
   "cell_type": "code",
   "execution_count": null,
   "metadata": {},
   "outputs": [],
   "source": [
    "corr = dataPivoted.\"Funkcja wyliczająca współczynniki korelacji\""
   ]
  },
  {
   "cell_type": "code",
   "execution_count": null,
   "metadata": {},
   "outputs": [],
   "source": [
    "plt.figure(figsize=(20,10))\n",
    "sns.\"rodzaj wykresu tworzący heatmape\"(corr, xticklabels=corr.columns, yticklabels=corr.columns)"
   ]
  },
  {
   "cell_type": "code",
   "execution_count": null,
   "metadata": {},
   "outputs": [],
   "source": [
    "top_correlated_products_categories = corr.unstack().abs().\"Funkcja sortująca\".drop_duplicates()[-10:-1]\n",
    "top_correlated_products_categories"
   ]
  },
  {
   "cell_type": "code",
   "execution_count": null,
   "metadata": {},
   "outputs": [],
   "source": [
    "assert round(top_correlated_products_categories.Inne.Pieczywo, 2) == 0.28 , \"Błędny wynik\""
   ]
  },
  {
   "cell_type": "code",
   "execution_count": null,
   "metadata": {},
   "outputs": [],
   "source": []
  }
 ],
 "metadata": {
  "kernelspec": {
   "display_name": "Python 3",
   "language": "python",
   "name": "python3"
  },
  "language_info": {
   "codemirror_mode": {
    "name": "ipython",
    "version": 3
   },
   "file_extension": ".py",
   "mimetype": "text/x-python",
   "name": "python",
   "nbconvert_exporter": "python",
   "pygments_lexer": "ipython3",
   "version": "3.7.4"
  }
 },
 "nbformat": 4,
 "nbformat_minor": 2
}
